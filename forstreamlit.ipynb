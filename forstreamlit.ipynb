{
 "cells": [
  {
   "cell_type": "code",
   "execution_count": 1,
   "id": "58c23ee3-ca04-4a27-9c29-f15ae5224945",
   "metadata": {},
   "outputs": [],
   "source": [
    "import pandas as pd\n",
    "import numpy as np\n",
    "import random\n",
    "import math\n",
    "from sklearn.preprocessing import StandardScaler\n",
    "from sklearn import preprocessing"
   ]
  },
  {
   "cell_type": "code",
   "execution_count": 2,
   "id": "47ea00d7-f033-47a7-ba0c-b6afb9314527",
   "metadata": {},
   "outputs": [],
   "source": [
    "data = pd.read_csv(\"wweia_data.csv\")\n",
    "data_category = pd.read_csv(\"wweia_food_categories_addtl.csv\")\n",
    "updated = data.iloc[:,3:]\n",
    "updt = data.iloc[:,:3]\n",
    "\n",
    "# 1st method makes features between -1 to 1\n",
    "data_norm_changed = updated.apply(lambda iterator: ((iterator - iterator.mean())/iterator.std()).round(2))\n",
    "data_norm = pd.concat([updt, data_norm_changed], axis =\"columns\")"
   ]
  },
  {
   "cell_type": "code",
   "execution_count": 3,
   "id": "19a3c9e6-5a73-4018-8d71-6e80b448db1c",
   "metadata": {},
   "outputs": [],
   "source": [
    "synonims = {1002: {1002, 1004, 1006, 1008, 1202, 1204, 1206, 1208, 1402, 1404},\n",
    " 1004: {1002, 1004, 1006, 1008, 1202, 1204, 1206, 1208, 1402, 1404},\n",
    " 1006: {1002, 1004, 1006, 1008, 1202, 1204, 1206, 1208, 1402, 1404},\n",
    " 1008: {1002, 1004, 1006, 1008, 1202, 1204, 1206, 1208, 1402, 1404},\n",
    " 1202: {1002, 1004, 1006, 1008, 1202, 1204, 1206, 1208, 1402, 1404},\n",
    " 1204: {1002, 1004, 1006, 1008, 1202, 1204, 1206, 1208, 1402, 1404},\n",
    " 1206: {1002, 1004, 1006, 1008, 1202, 1204, 1206, 1208, 1402, 1404},\n",
    " 1208: {1002, 1004, 1006, 1008, 1202, 1204, 1206, 1208, 1402, 1404},\n",
    " 1402: {1002, 1004, 1006, 1008, 1202, 1204, 1206, 1208, 1402, 1404},\n",
    " 1404: {1002, 1004, 1006, 1008, 1202, 1204, 1206, 1208, 1402, 1404},\n",
    " 1602: {1602, 1604},\n",
    " 1604: {1602, 1604},\n",
    " 1820: {1820, 1822},\n",
    " 1822: {1820, 1822},\n",
    " 2002: {2002, 2004},\n",
    " 2004: {2002, 2004},\n",
    " 2006: {2006},\n",
    " 2008: {2008},\n",
    " 2010: {2010},\n",
    " 2202: {2202, 2204, 2206, 3004},\n",
    " 2204: {2202, 2204, 2206, 3004},\n",
    " 2206: {2202, 2204, 2206, 3004},\n",
    " 2402: {2402, 2404, 3006},\n",
    " 2404: {2402, 2404, 3006},\n",
    " 2502: {2502},\n",
    " 2602: {2602},\n",
    " 2604: {2604},\n",
    " 2606: {2606},\n",
    " 2608: {2608},\n",
    " 2802: {2802},\n",
    " 2804: {2804},\n",
    " 2806: {2806},\n",
    " 3002: {3002},\n",
    " 3004: {2202, 2204, 2206, 3004},\n",
    " 3006: {2402, 2404, 3006},\n",
    " 3202: {3202, 4002},\n",
    " 3204: {3204, 4004},\n",
    " 3206: {3206},\n",
    " 3208: {3208},\n",
    " 3402: {3402},\n",
    " 3404: {3404},\n",
    " 3406: {3406},\n",
    " 3502: {3502},\n",
    " 3504: {3504},\n",
    " 3506: {3506},\n",
    " 3602: {3602},\n",
    " 3702: {3702},\n",
    " 3703: {3703, 3704, 3706, 3708, 3720, 3722},\n",
    " 3704: {3703, 3704, 3706, 3708, 3720, 3722},\n",
    " 3706: {3703, 3704, 3706, 3708, 3720, 3722},\n",
    " 3708: {3703, 3704, 3706, 3708, 3720, 3722},\n",
    " 3720: {3703, 3704, 3706, 3708, 3720, 3722},\n",
    " 3722: {3703, 3704, 3706, 3708, 3720, 3722},\n",
    " 3802: {3802},\n",
    " 4002: {3202, 4002},\n",
    " 4004: {3204, 4004},\n",
    " 4202: {4202, 4402},\n",
    " 4204: {4204},\n",
    " 4206: {4206},\n",
    " 4208: {4208},\n",
    " 4402: {4202, 4402},\n",
    " 4404: {4404},\n",
    " 4602: {4602, 4604, 4804},\n",
    " 4604: {4602, 4604, 4804},\n",
    " 4802: {4802},\n",
    " 4804: {4602, 4604, 4804},\n",
    " 5002: {5002, 5004},\n",
    " 5004: {5002, 5004},\n",
    " 5006: {5006},\n",
    " 5008: {5008},\n",
    " 5202: {5202, 5204},\n",
    " 5204: {5202, 5204},\n",
    " 5402: {5402, 5404},\n",
    " 5404: {5402, 5404},\n",
    " 5502: {5502},\n",
    " 5504: {5504},\n",
    " 5506: {5506},\n",
    " 5702: {5702, 5704},\n",
    " 5704: {5702, 5704},\n",
    " 5802: {5802},\n",
    " 5804: {5804},\n",
    " 5806: {5806},\n",
    " 6002: {6002},\n",
    " 6004: {6004},\n",
    " 6006: {6006},\n",
    " 6008: {6008},\n",
    " 6010: {6010},\n",
    " 6012: {6012},\n",
    " 6014: {6014},\n",
    " 6016: {6016},\n",
    " 6018: {6018},\n",
    " 6402: {6402},\n",
    " 6404: {6404},\n",
    " 6406: {6406},\n",
    " 6408: {6408},\n",
    " 6410: {6410},\n",
    " 6412: {6412},\n",
    " 6414: {6414},\n",
    " 6416: {6416},\n",
    " 6418: {6418},\n",
    " 6420: {6420},\n",
    " 6422: {6422},\n",
    " 6802: {6802, 6804, 6806},\n",
    " 6804: {6802, 6804, 6806},\n",
    " 6806: {6802, 6804, 6806},\n",
    " 7002: {7002, 7004, 7006, 7008},\n",
    " 7004: {7002, 7004, 7006, 7008},\n",
    " 7006: {7002, 7004, 7006, 7008},\n",
    " 7008: {7002, 7004, 7006, 7008},\n",
    " 7102: {7102, 7104, 7106},\n",
    " 7104: {7102, 7104, 7106},\n",
    " 7106: {7102, 7104, 7106},\n",
    " 7202: {7202},\n",
    " 7204: {7204},\n",
    " 7206: {7206},\n",
    " 7208: {7208},\n",
    " 7220: {7220},\n",
    " 7302: {7302},\n",
    " 7304: {7304},\n",
    " 7502: {7502},\n",
    " 7504: {7504},\n",
    " 7506: {7506},\n",
    " 7702: {7702, 7704, 7802, 7804},\n",
    " 7704: {7702, 7704, 7802, 7804},\n",
    " 7802: {7702, 7704, 7802, 7804},\n",
    " 7804: {7702, 7704, 7802, 7804},\n",
    " 8002: {8002},\n",
    " 8004: {8004},\n",
    " 8006: {8006, 8008},\n",
    " 8008: {8006, 8008},\n",
    " 8010: {8010},\n",
    " 8012: {8012},\n",
    " 8402: {8402, 8404, 8406},\n",
    " 8404: {8402, 8404, 8406},\n",
    " 8406: {8402, 8404, 8406},\n",
    " 8408: {8408},\n",
    " 8410: {8410},\n",
    " 8412: {8412},\n",
    " 8802: {8802},\n",
    " 8804: {8804},\n",
    " 8806: {8806},\n",
    " 9002: {9002},\n",
    " 9004: {9004},\n",
    " 9006: {9006},\n",
    " 9008: {9008},\n",
    " 9010: {9010},\n",
    " 9012: {9012},\n",
    " 9202: {9202},\n",
    " 9204: {9204},\n",
    " 9402: {9402, 9404, 9406},\n",
    " 9404: {9402, 9404, 9406},\n",
    " 9406: {9402, 9404, 9406},\n",
    " 9602: {9602},\n",
    " 9802: {9802},\n",
    " 9999: {9999}}"
   ]
  },
  {
   "cell_type": "code",
   "execution_count": 4,
   "id": "9ac366e3-2212-41aa-83d0-6bca529c0054",
   "metadata": {},
   "outputs": [
    {
     "name": "stdin",
     "output_type": "stream",
     "text": [
      "Are you a MALE or FEMALE:  MALE\n",
      "Enter your Weight in KG:  80\n",
      "Enter your Height in CM:  180\n",
      "Enter your age:  21\n"
     ]
    },
    {
     "name": "stdout",
     "output_type": "stream",
     "text": [
      "Your body mass index is: 24.69\n",
      "Acoording to your BMI, you are Healthy\n",
      "Total Calories needed = 2285 Kcal/day\n"
     ]
    },
    {
     "data": {
      "text/plain": [
       "380.8333333333333"
      ]
     },
     "execution_count": 4,
     "metadata": {},
     "output_type": "execute_result"
    }
   ],
   "source": [
    "gender = input(\"Are you a MALE or FEMALE: \")\n",
    "weight = int(input(\"Enter your Weight in KG: \"))\n",
    "height = int(input(\"Enter your Height in CM: \"))\n",
    "age = int(input(\"Enter your age: \"))\n",
    "\n",
    "bmi = weight/((height/100)**2) \n",
    "\n",
    "def BMI_cal(bmi):\n",
    "    #conditions\n",
    "    print(\"Your body mass index is: {:.2f}\".format(bmi))\n",
    "    if ( bmi < 16):\n",
    "        print(\"Acoording to your BMI, you are Severely Underweight\")\n",
    "\n",
    "    elif ( bmi >= 16 and bmi < 18.5):\n",
    "        print(\"Acoording to your BMI, you are Underweight\")\n",
    "\n",
    "    elif ( bmi >= 18.5 and bmi < 25):\n",
    "        print(\"Acoording to your BMI, you are Healthy\")\n",
    "        \n",
    "    elif ( bmi >= 25 and bmi < 30):\n",
    "        print(\"Acoording to your BMI, you are Overweight\")\n",
    "        \n",
    "    elif ( bmi >=30):\n",
    "        print(\"Acoording to your BMI, you are Severely Overweight\")       \n",
    "BMI_cal(bmi)\n",
    "# Calories acc to BMI\n",
    "# for men\n",
    "if gender == \"MALE\":\n",
    "    BMR_men = 88.362 + (13.397 * weight) + (4.799 * height) - (5.677 * age)\n",
    "    # Daily kilocalories needed \n",
    "    cal = int(BMR_men * 1.2)\n",
    "    print(\"Total Calories needed = {} Kcal/day\".format(cal))\n",
    "# for women\n",
    "else:\n",
    "    BMR_women = 447.593 + (9.247 * weight) + (3.098 * height) - (4.330 * age)\n",
    "    # Daily kilocalories needed \n",
    "    cal = int(BMR_women * 1.2)\n",
    "    print(\"Total Calories needed = {} Kcal/day\".format(cal))\n",
    "cal_per_cat = cal/6\n",
    "cal_per_cat"
   ]
  },
  {
   "cell_type": "code",
   "execution_count": 5,
   "id": "76432fa4-4c0d-4138-8eeb-919c3051d00f",
   "metadata": {},
   "outputs": [
    {
     "name": "stdout",
     "output_type": "stream",
     "text": [
      "Select 1 out of these sub-categories:\n",
      "\n",
      "Larger Category: Dairy\n",
      "0 -> Milk, whole\n",
      "1 -> Milk, reduced fat\n",
      "2 -> Milk, lowfat\n",
      "3 -> Milk, nonfat\n",
      "4 -> Flavored milk, whole\n",
      "5 -> Flavored milk, reduced fat\n",
      "6 -> Flavored milk, lowfat\n",
      "7 -> Flavored milk, nonfat\n",
      "8 -> Milk shakes and other dairy drinks\n",
      "9 -> Milk substitutes\n",
      "10 -> Cheese\n",
      "11 -> Cottage/ricotta cheese\n",
      "12 -> Yogurt, regular\n",
      "13 -> Yogurt, Greek\n"
     ]
    },
    {
     "name": "stdin",
     "output_type": "stream",
     "text": [
      "Enter the number to select:  10\n"
     ]
    },
    {
     "name": "stdout",
     "output_type": "stream",
     "text": [
      "Larger Category: Protein\n",
      "14 -> Beef, excludes ground\n",
      "15 -> Ground beef\n",
      "16 -> Pork\n",
      "17 -> Lamb, goat, game\n",
      "18 -> Liver and organ meats\n",
      "19 -> Chicken, whole pieces\n",
      "20 -> Chicken patties, nuggets and tenders\n",
      "21 -> Turkey, duck, other poultry\n",
      "22 -> Fish\n",
      "23 -> Shellfish\n",
      "24 -> Eggs and omelets\n",
      "25 -> Cold cuts and cured meats\n",
      "26 -> Bacon\n",
      "27 -> Frankfurters\n",
      "28 -> Sausages\n",
      "29 -> Beans, peas, legumes\n",
      "30 -> Nuts and seeds\n",
      "31 -> Processed soy products\n",
      "32 -> Meat mixed dishes\n",
      "33 -> Poultry mixed dishes\n",
      "34 -> Seafood mixed dishes\n"
     ]
    },
    {
     "name": "stdin",
     "output_type": "stream",
     "text": [
      "Enter the number to select:  22\n"
     ]
    },
    {
     "name": "stdout",
     "output_type": "stream",
     "text": [
      "Larger Category: Grain\n",
      "35 -> Rice mixed dishes\n",
      "36 -> Pasta mixed dishes, excludes macaroni and cheese\n",
      "37 -> Macaroni and cheese\n",
      "38 -> Turnovers and other grain-based items\n",
      "39 -> Fried rice and lo/chow mein\n",
      "40 -> Stir-fry and soy-based sauce mixtures\n",
      "41 -> Egg rolls, dumplings, sushi\n",
      "42 -> Burritos and tacos\n",
      "43 -> Nachos\n",
      "44 -> Other Mexican mixed dishes\n",
      "45 -> Pizza\n",
      "46 -> Burgers (single code)\n",
      "47 -> Frankfurter sandwiches (single code)\n",
      "48 -> Chicken/turkey sandwiches (single code)\n",
      "49 -> Egg/breakfast sandwiches (single code)\n",
      "50 -> Other sandwiches (single code)\n",
      "51 -> Cheese sandwiches (single code)\n",
      "52 -> Peanut butter and jelly sanwiches (single code)\n",
      "53 -> Soups\n",
      "54 -> Rice\n",
      "55 -> Pasta, noodles, cooked grains\n",
      "56 -> Yeast breads\n",
      "57 -> Rolls and buns\n",
      "58 -> Bagels and English muffins\n",
      "59 -> Tortillas\n",
      "60 -> Biscuits, muffins, quick breads\n",
      "61 -> Pancakes, waffles, French toast\n",
      "62 -> Ready-to-eat cereal, higher sugar (>21.2g/100g)\n",
      "63 -> Ready-to-eat cereal, lower sugar (=<21.2g/100g)\n",
      "64 -> Oatmeal\n",
      "65 -> Grits and other cooked cereals\n",
      "66 -> Potato chips\n",
      "67 -> Tortilla, corn, other chips\n",
      "68 -> Popcorn\n",
      "69 -> Pretzels/snack mix\n",
      "70 -> Crackers, excludes saltines\n",
      "71 -> Saltine crackers\n",
      "72 -> Cereal bars\n",
      "73 -> Nutrition bars\n",
      "74 -> Cakes and pies\n",
      "75 -> Cookies and brownies\n",
      "76 -> Doughnuts, sweet rolls, pastries\n",
      "77 -> Candy containing chocolate\n",
      "78 -> Candy not containing chocolate\n",
      "79 -> Ice cream and frozen dairy desserts\n",
      "80 -> Pudding\n",
      "81 -> Gelatins, ices, sorbets\n"
     ]
    },
    {
     "name": "stdin",
     "output_type": "stream",
     "text": [
      "Enter the number to select:  44\n"
     ]
    },
    {
     "name": "stdout",
     "output_type": "stream",
     "text": [
      "Larger Category: Fruit\n",
      "82 -> Apples\n",
      "83 -> Bananas\n",
      "84 -> Grapes\n",
      "85 -> Peaches and nectarines\n",
      "86 -> Berries\n",
      "87 -> Citrus fruits\n",
      "88 -> Melons\n",
      "89 -> Dried fruits\n",
      "90 -> Other fruits and fruit salads\n"
     ]
    },
    {
     "name": "stdin",
     "output_type": "stream",
     "text": [
      "Enter the number to select:  89\n"
     ]
    },
    {
     "name": "stdout",
     "output_type": "stream",
     "text": [
      "Larger Category: Vegetable\n",
      "91 -> Tomatoes\n",
      "92 -> Carrots\n",
      "93 -> Other red and orange vegetables\n",
      "94 -> Dark green vegetables, excludes lettuce\n",
      "95 -> Lettuce and lettuce salads\n",
      "96 -> String beans\n",
      "97 -> Onions\n",
      "98 -> Corn\n",
      "99 -> Other starchy vegetables\n",
      "100 -> Other vegetables and combinations\n",
      "101 -> Vegetable mixed dishes\n",
      "102 -> White potatoes, baked or boiled\n",
      "103 -> French fries and other fried white potatoes\n",
      "104 -> Mashed potatoes and white potato mixtures\n"
     ]
    },
    {
     "name": "stdin",
     "output_type": "stream",
     "text": [
      "Enter the number to select:  104\n"
     ]
    },
    {
     "name": "stdout",
     "output_type": "stream",
     "text": [
      "Larger Category: Other\n",
      "105 -> Citrus juice\n",
      "106 -> Apple juice\n",
      "107 -> Other fruit juice\n",
      "108 -> Vegetable juice\n",
      "109 -> Diet soft drinks\n",
      "110 -> Diet sport and energy drinks\n",
      "111 -> Other diet drinks\n",
      "112 -> Soft drinks\n",
      "113 -> Fruit drinks\n",
      "114 -> Sport and energy drinks\n",
      "115 -> Nutritional beverages\n",
      "116 -> Smoothies and grain drinks\n",
      "117 -> Coffee\n",
      "118 -> Tea\n",
      "119 -> Beer\n",
      "120 -> Wine\n",
      "121 -> Liquor and cocktails\n",
      "122 -> Tap water\n",
      "123 -> Bottled water\n",
      "124 -> Flavored or carbonated water\n",
      "125 -> Enhanced or fortified water\n",
      "126 -> Butter and animal fats\n",
      "127 -> Margarine\n",
      "128 -> Cream cheese, sour cream, whipped cream\n",
      "129 -> Cream and cream substitutes\n",
      "130 -> Mayonnaise\n",
      "131 -> Salad dressings and vegetable oils\n",
      "132 -> Tomato-based condiments\n",
      "133 -> Soy-based condiments\n",
      "134 -> Mustard and other condiments\n",
      "135 -> Olives, pickles, pickled vegetables\n",
      "136 -> Pasta sauces, tomato-based\n",
      "137 -> Dips, gravies, other sauces\n",
      "138 -> Sugars and honey\n",
      "139 -> Sugar substitutes\n",
      "140 -> Jams, syrups, toppings\n",
      "141 -> Baby food: cereals\n",
      "142 -> Baby food: fruit\n",
      "143 -> Baby food: vegetable\n",
      "144 -> Baby food: meat and dinners\n",
      "145 -> Baby food: yogurt\n",
      "146 -> Baby food: snacks and sweets\n",
      "147 -> Baby juice\n",
      "148 -> Baby water\n",
      "149 -> Formula, ready-to-feed\n",
      "150 -> Formula, prepared from powder\n",
      "151 -> Formula, prepared from concentrate\n",
      "152 -> Human milk\n",
      "153 -> Protein and nutritional powders\n",
      "154 -> Not included in a food category\n"
     ]
    },
    {
     "name": "stdin",
     "output_type": "stream",
     "text": [
      "Enter the number to select:  136\n"
     ]
    },
    {
     "name": "stdout",
     "output_type": "stream",
     "text": [
      "Selected items: [11, 23, 45, 90, 105, 137]\n"
     ]
    }
   ],
   "source": [
    "categories_range = [0, 14, 35, 82, 91, 105, 155]\n",
    "selected = []\n",
    "print(\"Select 1 out of these sub-categories:\\n\")\n",
    "for i in range(6):\n",
    "    print(\"Larger Category:\", data_category[\"larger_category\"][categories_range[i]])\n",
    "    for j in range(categories_range[i], categories_range[i + 1]):\n",
    "        print(\"{} -> {}\".format(j, data_category[\"wweia_food_category_description\"][j]))\n",
    "    user_input = input(\"Enter the number to select: \")\n",
    "    selected.append(int(user_input) + 1)\n",
    "print(\"Selected items:\", selected)"
   ]
  },
  {
   "cell_type": "code",
   "execution_count": 6,
   "id": "abdc8668-90bf-449a-9625-1e78381ad93e",
   "metadata": {},
   "outputs": [],
   "source": [
    "header_list = [\"wweia_food_category_code\",\"wweia_food_category_description\",\"larger_category\",\"same_category\"]\n",
    "df1 = pd.read_csv('wweia_food_categories_addtl.csv',skiprows=lambda x: x not in selected, names = header_list)\n",
    "def category_code():\n",
    "    # returns category code of foods selected by user\n",
    "    return df1[\"wweia_food_category_code\"]\n",
    "list_of_categories = category_code().to_list()"
   ]
  },
  {
   "cell_type": "code",
   "execution_count": 8,
   "id": "4789d0f0-e41d-4814-bf96-cad514599ffc",
   "metadata": {},
   "outputs": [
    {
     "name": "stdout",
     "output_type": "stream",
     "text": [
      "(77, 27)\n",
      "select among these :\n",
      "604   -> Cheese, Swiss\n",
      "586   -> Cheese, Gruyere\n",
      "635   -> Cheese, American, nonfat or fat free\n",
      "622   -> Cheese, cottage, dry curd\n",
      "634   -> Cheese, American, reduced fat\n",
      "596   -> Cheese, Muenster, reduced fat\n",
      "599   -> Cheese, Parmesan, hard\n",
      "586   -> Cheese, Gruyere\n",
      "601   -> Cheese, Port du Salut\n",
      "613   -> Queso Chihuahua\n"
     ]
    },
    {
     "name": "stdin",
     "output_type": "stream",
     "text": [
      "enter  601\n"
     ]
    },
    {
     "name": "stdout",
     "output_type": "stream",
     "text": [
      "(554, 27)\n",
      "select among these :\n",
      "1673   -> Abalone, floured or breaded, fried\n",
      "1452   -> Herring, baked or broiled, fat not added in cooking\n",
      "1678   -> Clams, baked or broiled, fat not added in cooking\n",
      "1468   -> Mackerel, canned\n",
      "1968   -> Shrimp and noodles with cheese sauce\n",
      "1475   -> Mullet, coated, baked or broiled, fat not added in cooking\n",
      "1404   -> Flounder, cooked, NS as to cooking method\n",
      "1830   -> Fish with cream or white sauce, not tuna or lobster\n",
      "1522   -> Porgy, baked or broiled, fat not added in cooking\n",
      "1666   -> Squid, coated, fried\n"
     ]
    },
    {
     "name": "stdin",
     "output_type": "stream",
     "text": [
      "enter  1673\n"
     ]
    },
    {
     "name": "stdout",
     "output_type": "stream",
     "text": [
      "(63, 27)\n",
      "select among these :\n",
      "4778   -> Tamale casserole with meat\n",
      "4724   -> Chilaquiles, tortilla casserole with salsa and cheese, no egg\n",
      "4774   -> Tamale with chicken\n",
      "4723   -> Chilaquiles, tortilla casserole with salsa, cheese, and egg\n",
      "5412   -> Beef enchilada, chili gravy, rice, refried beans, frozen meal\n",
      "4726   -> Enchilada with meat and beans, green-chile or enchilada sauce\n",
      "7661   -> Chiles rellenos, filled with meat and cheese\n",
      "4806   -> Taquito or flauta with cheese\n",
      "5415   -> Chicken fajitas, diet frozen meal\n",
      "4918   -> Tamal in a leaf, Puerto Rican style\n"
     ]
    },
    {
     "name": "stdin",
     "output_type": "stream",
     "text": [
      "enter  4723\n"
     ]
    },
    {
     "name": "stdout",
     "output_type": "stream",
     "text": [
      "(42, 27)\n",
      "select among these :\n",
      "5518   -> Cherries, dried\n",
      "5519   -> Banana flakes, dehydrated\n",
      "5540   -> Plum, rock salt, dried\n",
      "5523   -> Date\n",
      "5529   -> Mango, dried\n",
      "5529   -> Mango, dried\n",
      "5543   -> Prune, dried, cooked, unsweetened\n",
      "5542   -> Prune, dried, cooked, NS as to sweetened or unsweetened; sweetened, NS as to type of sweetener\n",
      "5540   -> Plum, rock salt, dried\n",
      "5507   -> Fruit mixture, dried\n"
     ]
    },
    {
     "name": "stdin",
     "output_type": "stream",
     "text": [
      "enter  5518\n"
     ]
    },
    {
     "name": "stdout",
     "output_type": "stream",
     "text": [
      "(150, 27)\n",
      "select among these :\n",
      "6018   -> Potato, mashed, from fresh, NFS\n",
      "5909   -> Potato, boiled, from fresh, peel eaten, NS as to fat added in cooking\n",
      "6015   -> Potato, mashed, from fresh, made with milk\n",
      "6045   -> Potato, baked, peel eaten, with sour cream\n",
      "6019   -> Potato, mashed, from restaurant\n",
      "6047   -> Potato, baked, peel eaten, with meat\n",
      "6043   -> Potato, baked, peel eaten\n",
      "5899   -> Potato, baked, NFS\n",
      "5992   -> Potato, home fries, from restaurant / fast food\n",
      "5973   -> Potato, scalloped, ready-to-heat\n"
     ]
    },
    {
     "name": "stdin",
     "output_type": "stream",
     "text": [
      "enter  5992\n"
     ]
    },
    {
     "name": "stdout",
     "output_type": "stream",
     "text": [
      "(11, 27)\n",
      "select among these :\n",
      "1809   -> Spaghetti sauce with poultry and added vegetables\n",
      "1841   -> Spaghetti sauce with seafood\n",
      "6639   -> Vodka sauce with tomatoes and cream\n",
      "1865   -> Spaghetti sauce with meat\n",
      "6636   -> Spaghetti sauce with added vegetables\n",
      "1842   -> Spaghetti sauce with seafood and added vegetables\n",
      "6638   -> Spaghetti sauce, fat free\n",
      "6639   -> Vodka sauce with tomatoes and cream\n",
      "1866   -> Spaghetti sauce with meat and added vegetables\n",
      "1842   -> Spaghetti sauce with seafood and added vegetables\n"
     ]
    },
    {
     "name": "stdin",
     "output_type": "stream",
     "text": [
      "enter  6638\n"
     ]
    },
    {
     "name": "stdout",
     "output_type": "stream",
     "text": [
      "[[601], [1673], [4723], [5518], [5992], [6638]]\n"
     ]
    }
   ],
   "source": [
    "new_list = []\n",
    "for j in list_of_categories:\n",
    "    categ = synonims[j]\n",
    "    categ = list(categ)\n",
    "    new_list.append(categ)\n",
    "new_list\n",
    "def Select():\n",
    "    final = []\n",
    "    new_indexes = list(df3.index)\n",
    "    print(df3.shape)\n",
    "    randm = []\n",
    "    for b in range(10):\n",
    "        randm.append(random.choice(new_indexes))\n",
    "    user_sel = []\n",
    "    print(\"select among these :\")\n",
    "    for x in randm:\n",
    "        print(\"{}   -> {}\".format(x, data[\"description\"][x]))\n",
    "    z = input(\"enter \")    \n",
    "    user_sel = list(map(int, z.split(\" \")))\n",
    "    return user_sel\n",
    "select_user = []\n",
    "final = []\n",
    "check = []\n",
    "food2 = []\n",
    "for x in new_list:\n",
    "    for y in x:\n",
    "        z = data.loc[data[\"wweia_category_code\"]==y]\n",
    "        food2.append(z)\n",
    "    df3 = pd.concat(food2)\n",
    "    check.append(df3)\n",
    "    select_user.append(food2)\n",
    "    final.append(Select())\n",
    "    food2 = []\n",
    "print(final)"
   ]
  },
  {
   "cell_type": "code",
   "execution_count": 12,
   "id": "d15aab20-04e4-4877-9b57-90a4da9535a3",
   "metadata": {},
   "outputs": [],
   "source": [
    "def recommend_1():\n",
    "    from sklearn.feature_extraction.text import TfidfVectorizer\n",
    "    from sklearn.neighbors import NearestNeighbors\n",
    "    \n",
    "    tfidf = TfidfVectorizer(stop_words=\"english\")\n",
    "    vectors = tfidf.fit_transform(data[\"description\"]).toarray()\n",
    "    knn = NearestNeighbors(n_neighbors=100, algorithm='brute', metric='cosine')\n",
    "    knn.fit(vectors)\n",
    "\n",
    "    def recommend(index):\n",
    "        calories = []\n",
    "        energy = 0\n",
    "        remaining = cal_per_cat\n",
    "        # Finding the index of the input recipe\n",
    "        recipe_index = index\n",
    "        _, indices = knn.kneighbors(vectors[recipe_index].reshape(1,-1))\n",
    "        # Printing only the top k most similar recipes\n",
    "        for i in indices[0][1::10]:\n",
    "            if energy < cal_per_cat:\n",
    "                if data.iloc[i].energy_kcal < remaining: \n",
    "                    print(\"{}, -- calories = {} Kcal\".format(data.iloc[i].description, data.iloc[i].energy_kcal))\n",
    "                    calories.append(data.iloc[i].energy_kcal)\n",
    "                    energy += data.iloc[i].energy_kcal\n",
    "                    remaining = cal_per_cat - energy\n",
    "        print(\"\\nTotal calorie: {} Kcal\".format(energy))\n",
    "        print(\"--------------------\")\n",
    "\n",
    "        return np.sum(calories)\n",
    "\n",
    "\n",
    "    # Testing the recommendation function\n",
    "    total_cal = []\n",
    "    print(\"THE RECOMMENDED FOODS ARE\\n\")\n",
    "    for item in final:\n",
    "        energy = recommend(item)\n",
    "        total_cal.append(energy)\n",
    "\n",
    "    total_energy = np.sum(total_cal)\n",
    "    error = abs(total_energy - cal)/cal\n",
    "#     print(\"error\",error)\n",
    "    b = i\n",
    "    while error > .15:\n",
    "        b+=1\n",
    "        print(\"{}, -- calories = {} Kcal\".format(data.iloc[b].description, data.iloc[b].energy_kcal))\n",
    "        total_energy += data.iloc[b].energy_kcal\n",
    "        error = abs(total_energy - cal)/cal\n",
    "    print(\"-------------\")\n",
    "    print(\"The total calories of the recommended food \",total_energy,\"Kcal\")\n",
    "    print(\"Error percentage between calories actually needed and recommended calories = {:.2f}%\".format(error*100))\n",
    "    \n",
    "     "
   ]
  },
  {
   "cell_type": "code",
   "execution_count": 13,
   "id": "9d53bacc-9b0d-49c5-be5a-8fdb40e5cd92",
   "metadata": {},
   "outputs": [
    {
     "name": "stdout",
     "output_type": "stream",
     "text": [
      "THE RECOMMENDED FOODS ARE\n",
      "\n",
      "Cheese sauce, -- calories = 160 Kcal\n",
      "Tuna salad with cheese, -- calories = 214 Kcal\n",
      "\n",
      "Total calorie: 374 Kcal\n",
      "--------------------\n",
      "Ham, breaded or floured, fried, NS as to fat eaten, -- calories = 200 Kcal\n",
      "Breadfruit, fried, -- calories = 158 Kcal\n",
      "\n",
      "Total calorie: 358 Kcal\n",
      "--------------------\n",
      "Chilaquiles, tortilla casserole with salsa, cheese, and egg, -- calories = 292 Kcal\n",
      "\n",
      "Total calorie: 292 Kcal\n",
      "--------------------\n",
      "Cherries, frozen, -- calories = 46 Kcal\n",
      "Shrimp, dried, -- calories = 253 Kcal\n",
      "Cherries, sweet, cooked or canned, NS as to sweetened or unsweetened; sweetened, NS as to type of sweetener, -- calories = 54 Kcal\n",
      "\n",
      "Total calorie: 353 Kcal\n",
      "--------------------\n",
      "Sweet potato fries, fast food / restaurant, -- calories = 305 Kcal\n",
      "\n",
      "Total calorie: 305 Kcal\n",
      "--------------------\n",
      "Spaghetti sauce, -- calories = 50 Kcal\n",
      "Squash, spaghetti, cooked, fat not added in cooking, -- calories = 27 Kcal\n",
      "Meatball and spaghetti sauce submarine sandwich, -- calories = 219 Kcal\n",
      "Tuna salad, made with any type of fat free dressing, -- calories = 73 Kcal\n",
      "\n",
      "Total calorie: 369 Kcal\n",
      "--------------------\n",
      "-------------\n",
      "The total calories of the recommended food  2051 Kcal\n",
      "Error percentage between calories actually needed and recommended calories = 10.24%\n"
     ]
    }
   ],
   "source": [
    "recommend_1()"
   ]
  },
  {
   "cell_type": "code",
   "execution_count": null,
   "id": "4acfc2b7-ab8c-4a42-9e58-4e32daad364e",
   "metadata": {},
   "outputs": [],
   "source": []
  }
 ],
 "metadata": {
  "kernelspec": {
   "display_name": "Python 3 (ipykernel)",
   "language": "python",
   "name": "python3"
  },
  "language_info": {
   "codemirror_mode": {
    "name": "ipython",
    "version": 3
   },
   "file_extension": ".py",
   "mimetype": "text/x-python",
   "name": "python",
   "nbconvert_exporter": "python",
   "pygments_lexer": "ipython3",
   "version": "3.12.0"
  }
 },
 "nbformat": 4,
 "nbformat_minor": 5
}
